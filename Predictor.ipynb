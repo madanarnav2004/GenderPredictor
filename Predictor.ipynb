{
  "nbformat": 4,
  "nbformat_minor": 0,
  "metadata": {
    "colab": {
      "provenance": [],
      "authorship_tag": "ABX9TyO+QXhERyR/LgUJuEFkvA/T",
      "include_colab_link": true
    },
    "kernelspec": {
      "name": "python3",
      "display_name": "Python 3"
    },
    "language_info": {
      "name": "python"
    }
  },
  "cells": [
    {
      "cell_type": "markdown",
      "metadata": {
        "id": "view-in-github",
        "colab_type": "text"
      },
      "source": [
        "<a href=\"https://colab.research.google.com/github/madanarnav2004/GenderPredictor/blob/main/Predictor.ipynb\" target=\"_parent\"><img src=\"https://colab.research.google.com/assets/colab-badge.svg\" alt=\"Open In Colab\"/></a>"
      ]
    },
    {
      "cell_type": "code",
      "source": [
        "\n"
      ],
      "metadata": {
        "id": "-1ogvaUqEuL-"
      },
      "execution_count": 17,
      "outputs": []
    },
    {
      "cell_type": "code",
      "source": [
        "import pandas as pd\n",
        "import numpy as np\n",
        "from sklearn.model_selection import train_test_split\n",
        "from sklearn.preprocessing import LabelEncoder\n",
        "from tensorflow.keras.models import Sequential\n",
        "from tensorflow.keras.layers import Dense, Embedding, LSTM\n",
        "from tensorflow.keras.preprocessing.text import Tokenizer\n",
        "from tensorflow.keras.preprocessing.sequence import pad_sequences\n",
        "\n",
        "# Read the CSV file into a DataFrame\n",
        "df = pd.read_csv('Gender_final.csv')\n",
        "\n",
        "# Convert categorical variables to numeric labels\n",
        "label_encoder = LabelEncoder()\n",
        "df['gender_encoded'] = label_encoder.fit_transform(df['gender'])\n",
        "\n",
        "# Split the data into features (X) and labels (y)\n",
        "X = df['name'].values.astype(str)\n",
        "y_gender = df['gender_encoded'].values\n",
        "\n",
        "# Tokenize the input data\n",
        "tokenizer = Tokenizer()\n",
        "tokenizer.fit_on_texts(X)\n",
        "X_encoded = tokenizer.texts_to_sequences(X)\n",
        "\n",
        "# Pad the sequences to have the same length\n",
        "max_sequence_length = max(len(seq) for seq in X_encoded)\n",
        "X_padded = pad_sequences(X_encoded, maxlen=max_sequence_length)\n",
        "\n",
        "# Split the data into training and testing sets\n",
        "X_train, X_test, y_gender_train, y_gender_test = train_test_split(X_padded, y_gender, test_size=0.2, random_state=42)\n",
        "\n",
        "# Determine the vocabulary size\n",
        "vocab_size = len(tokenizer.word_index) + 1\n",
        "\n",
        "# Create the model\n",
        "model = Sequential()\n",
        "model.add(Embedding(input_dim=vocab_size, output_dim=32, input_length=max_sequence_length))\n",
        "model.add(LSTM(64, return_sequences=True))\n",
        "model.add(LSTM(64))\n",
        "model.add(Dense(2, activation='softmax'))\n",
        "\n",
        "# Compile the model\n",
        "model.compile(loss='sparse_categorical_crossentropy', optimizer='adam', metrics=['accuracy'])\n",
        "\n",
        "# Train the model\n",
        "model.fit(X_train, y_gender_train,\n",
        "          validation_data=(X_test, y_gender_test),\n",
        "          epochs=10, batch_size=32)\n",
        "\n",
        "\n",
        "\n"
      ],
      "metadata": {
        "colab": {
          "base_uri": "https://localhost:8080/"
        },
        "id": "lJwKd8F8DbkP",
        "outputId": "261dfc0c-6b01-42d7-926a-75efc8d781d4"
      },
      "execution_count": 26,
      "outputs": [
        {
          "output_type": "stream",
          "name": "stdout",
          "text": [
            "Epoch 1/10\n",
            "3089/3089 [==============================] - 105s 33ms/step - loss: 0.2092 - accuracy: 0.8789 - val_loss: 0.1592 - val_accuracy: 0.9058\n",
            "Epoch 2/10\n",
            "3089/3089 [==============================] - 99s 32ms/step - loss: 0.0474 - accuracy: 0.9877 - val_loss: 0.1734 - val_accuracy: 0.9038\n",
            "Epoch 3/10\n",
            "3089/3089 [==============================] - 105s 34ms/step - loss: 0.0349 - accuracy: 0.9898 - val_loss: 0.1871 - val_accuracy: 0.9019\n",
            "Epoch 4/10\n",
            "3089/3089 [==============================] - 102s 33ms/step - loss: 0.0303 - accuracy: 0.9901 - val_loss: 0.1813 - val_accuracy: 0.8992\n",
            "Epoch 5/10\n",
            "3089/3089 [==============================] - 100s 32ms/step - loss: 0.0264 - accuracy: 0.9910 - val_loss: 0.1828 - val_accuracy: 0.8968\n",
            "Epoch 6/10\n",
            "3089/3089 [==============================] - 100s 32ms/step - loss: 0.0232 - accuracy: 0.9916 - val_loss: 0.1782 - val_accuracy: 0.8965\n",
            "Epoch 7/10\n",
            "3089/3089 [==============================] - 99s 32ms/step - loss: 0.0219 - accuracy: 0.9917 - val_loss: 0.1840 - val_accuracy: 0.8979\n",
            "Epoch 8/10\n",
            "3089/3089 [==============================] - 98s 32ms/step - loss: 0.0207 - accuracy: 0.9921 - val_loss: 0.1758 - val_accuracy: 0.9059\n",
            "Epoch 9/10\n",
            "3089/3089 [==============================] - 99s 32ms/step - loss: 0.0195 - accuracy: 0.9923 - val_loss: 0.1855 - val_accuracy: 0.9091\n",
            "Epoch 10/10\n",
            "3089/3089 [==============================] - 99s 32ms/step - loss: 0.0193 - accuracy: 0.9925 - val_loss: 0.1851 - val_accuracy: 0.8976\n"
          ]
        },
        {
          "output_type": "execute_result",
          "data": {
            "text/plain": [
              "<keras.callbacks.History at 0x7f7c6563fa30>"
            ]
          },
          "metadata": {},
          "execution_count": 26
        }
      ]
    },
    {
      "cell_type": "code",
      "source": [
        "X_new = [\n",
        "    \"\"\n",
        "]\n"
      ],
      "metadata": {
        "id": "JffJ2CovHX42"
      },
      "execution_count": 53,
      "outputs": []
    },
    {
      "cell_type": "code",
      "source": [
        "# Assuming you have a new set of names stored in a variable called X_new\n",
        "X_new_encoded = tokenizer.texts_to_sequences(X_new)\n",
        "X_new_padded = pad_sequences(X_new_encoded, maxlen=max_sequence_length)\n",
        "\n",
        "# Make predictions\n",
        "predictions = model.predict(X_new_padded)\n",
        "\n",
        "# Convert the predicted probabilities to class labels\n",
        "predicted_labels = np.argmax(predictions, axis=1)\n",
        "\n",
        "# Convert the predicted labels back to original class names\n",
        "predicted_genders = label_encoder.inverse_transform(predicted_labels)\n",
        "\n",
        "# Print the predictions\n",
        "for name, gender in zip(X_new, predicted_genders):\n",
        "    print(f\"Name: {name}, Predicted Gender: {gender}\")\n"
      ],
      "metadata": {
        "colab": {
          "base_uri": "https://localhost:8080/"
        },
        "id": "vXwnRq2THFde",
        "outputId": "4fa81a60-1e7f-4596-f992-a06a9d755ed1"
      },
      "execution_count": 54,
      "outputs": [
        {
          "output_type": "stream",
          "name": "stdout",
          "text": [
            "1/1 [==============================] - 0s 23ms/step\n",
            "Name: laura, Predicted Gender: f\n"
          ]
        }
      ]
    }
  ]
}